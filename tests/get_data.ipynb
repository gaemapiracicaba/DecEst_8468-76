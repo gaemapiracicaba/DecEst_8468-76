{
 "cells": [
  {
   "cell_type": "markdown",
   "id": "9e050706-8b4f-495c-96bd-645a8a5e52d9",
   "metadata": {},
   "source": [
    "<br>\n",
    "\n",
    "# Introdução"
   ]
  },
  {
   "cell_type": "code",
   "execution_count": 8,
   "id": "b165f4b3",
   "metadata": {},
   "outputs": [],
   "source": [
    "import pprint\n",
    "import pandas as pd"
   ]
  },
  {
   "cell_type": "code",
   "execution_count": 22,
   "id": "ac837568",
   "metadata": {},
   "outputs": [
    {
     "data": {
      "text/html": [
       "<div>\n",
       "<style scoped>\n",
       "    .dataframe tbody tr th:only-of-type {\n",
       "        vertical-align: middle;\n",
       "    }\n",
       "\n",
       "    .dataframe tbody tr th {\n",
       "        vertical-align: top;\n",
       "    }\n",
       "\n",
       "    .dataframe thead th {\n",
       "        text-align: right;\n",
       "    }\n",
       "</style>\n",
       "<table border=\"1\" class=\"dataframe\">\n",
       "  <thead>\n",
       "    <tr style=\"text-align: right;\">\n",
       "      <th></th>\n",
       "      <th>padrao_qualidade</th>\n",
       "      <th>parametro_descricao</th>\n",
       "      <th>parametro_sigla</th>\n",
       "      <th>valor_minimo_permitido</th>\n",
       "      <th>valor_maximo_permitido</th>\n",
       "      <th>unidade</th>\n",
       "      <th>norma_referencia</th>\n",
       "      <th>norma_texto</th>\n",
       "    </tr>\n",
       "    <tr>\n",
       "      <th>id</th>\n",
       "      <th></th>\n",
       "      <th></th>\n",
       "      <th></th>\n",
       "      <th></th>\n",
       "      <th></th>\n",
       "      <th></th>\n",
       "      <th></th>\n",
       "      <th></th>\n",
       "    </tr>\n",
       "  </thead>\n",
       "  <tbody>\n",
       "    <tr>\n",
       "      <th>1</th>\n",
       "      <td>Classe 1</td>\n",
       "      <td>Amônia</td>\n",
       "      <td>NH3</td>\n",
       "      <td>NaN</td>\n",
       "      <td>0.50</td>\n",
       "      <td>mg/l de N</td>\n",
       "      <td>Item 1, Art. 10</td>\n",
       "      <td>Amônia - 0,5 mg/l de N (cinco décimos de milig...</td>\n",
       "    </tr>\n",
       "    <tr>\n",
       "      <th>2</th>\n",
       "      <td>Classe 1</td>\n",
       "      <td>Arsênico</td>\n",
       "      <td>As</td>\n",
       "      <td>NaN</td>\n",
       "      <td>0.10</td>\n",
       "      <td>mg/l</td>\n",
       "      <td>Item 1, Art. 10</td>\n",
       "      <td>Arsênico - 0,1 mg/l (um décimo de miligrama po...</td>\n",
       "    </tr>\n",
       "    <tr>\n",
       "      <th>3</th>\n",
       "      <td>Classe 1</td>\n",
       "      <td>Bário</td>\n",
       "      <td>Ba</td>\n",
       "      <td>NaN</td>\n",
       "      <td>1.00</td>\n",
       "      <td>mg/l</td>\n",
       "      <td>Item 1, Art. 10</td>\n",
       "      <td>Bário - 1,0 mg/l (1 miligrama por litro)</td>\n",
       "    </tr>\n",
       "    <tr>\n",
       "      <th>4</th>\n",
       "      <td>Classe 1</td>\n",
       "      <td>Cádmio</td>\n",
       "      <td>Cd</td>\n",
       "      <td>NaN</td>\n",
       "      <td>0.01</td>\n",
       "      <td>mg/l</td>\n",
       "      <td>Item 1, Art. 10</td>\n",
       "      <td>Cádmio - 0,01 mg/l (um centésimo de miligrama ...</td>\n",
       "    </tr>\n",
       "    <tr>\n",
       "      <th>5</th>\n",
       "      <td>Classe 1</td>\n",
       "      <td>Cromo (total)</td>\n",
       "      <td>Cr</td>\n",
       "      <td>NaN</td>\n",
       "      <td>0.05</td>\n",
       "      <td>mg/l</td>\n",
       "      <td>Item 1, Art. 10</td>\n",
       "      <td>Cromo (total) - 0,05 mg/l (cinco centésimo de ...</td>\n",
       "    </tr>\n",
       "  </tbody>\n",
       "</table>\n",
       "</div>"
      ],
      "text/plain": [
       "   padrao_qualidade parametro_descricao parametro_sigla  \\\n",
       "id                                                        \n",
       "1          Classe 1              Amônia             NH3   \n",
       "2          Classe 1            Arsênico              As   \n",
       "3          Classe 1               Bário              Ba   \n",
       "4          Classe 1              Cádmio              Cd   \n",
       "5          Classe 1       Cromo (total)              Cr   \n",
       "\n",
       "    valor_minimo_permitido  valor_maximo_permitido     unidade  \\\n",
       "id                                                               \n",
       "1                      NaN                    0.50  mg/l de N    \n",
       "2                      NaN                    0.10       mg/l    \n",
       "3                      NaN                    1.00       mg/l    \n",
       "4                      NaN                    0.01       mg/l    \n",
       "5                      NaN                    0.05       mg/l    \n",
       "\n",
       "   norma_referencia                                        norma_texto  \n",
       "id                                                                      \n",
       "1   Item 1, Art. 10  Amônia - 0,5 mg/l de N (cinco décimos de milig...  \n",
       "2   Item 1, Art. 10  Arsênico - 0,1 mg/l (um décimo de miligrama po...  \n",
       "3   Item 1, Art. 10           Bário - 1,0 mg/l (1 miligrama por litro)  \n",
       "4   Item 1, Art. 10  Cádmio - 0,01 mg/l (um centésimo de miligrama ...  \n",
       "5   Item 1, Art. 10  Cromo (total) - 0,05 mg/l (cinco centésimo de ...  "
      ]
     },
     "execution_count": 22,
     "metadata": {},
     "output_type": "execute_result"
    }
   ],
   "source": [
    "# Read Data\n",
    "url = 'https://raw.githubusercontent.com/gaemapiracicaba/norma_dec_8468-76/main/data/tab_DecEst8468.xlsx'\n",
    "df = pd.read_excel(url, index_col=0)\n",
    "df.head()"
   ]
  },
  {
   "cell_type": "code",
   "execution_count": 26,
   "id": "591b9fb0",
   "metadata": {},
   "outputs": [
    {
     "name": "stdout",
     "output_type": "stream",
     "text": [
      "['Classe 1', 'Classe 2', 'Classe 3', 'Classe 4']\n"
     ]
    }
   ],
   "source": [
    "# Classes\n",
    "list_classes = list(set(df['padrao_qualidade']))\n",
    "list_classes.sort()\n",
    "pprint.pprint(list_classes)\n",
    "\n",
    "# Filter Data by Classes\n",
    "df = df.loc[(df['padrao_qualidade'] == 'Classe 2')]"
   ]
  },
  {
   "cell_type": "code",
   "execution_count": 29,
   "id": "94f77ece-1563-4272-9422-46f3e5a7f64f",
   "metadata": {},
   "outputs": [
    {
     "name": "stdout",
     "output_type": "stream",
     "text": [
      "['Oxigênio Dissolvido']\n"
     ]
    },
    {
     "data": {
      "text/html": [
       "<div>\n",
       "<style scoped>\n",
       "    .dataframe tbody tr th:only-of-type {\n",
       "        vertical-align: middle;\n",
       "    }\n",
       "\n",
       "    .dataframe tbody tr th {\n",
       "        vertical-align: top;\n",
       "    }\n",
       "\n",
       "    .dataframe thead th {\n",
       "        text-align: right;\n",
       "    }\n",
       "</style>\n",
       "<table border=\"1\" class=\"dataframe\">\n",
       "  <thead>\n",
       "    <tr style=\"text-align: right;\">\n",
       "      <th></th>\n",
       "      <th>padrao_qualidade</th>\n",
       "      <th>parametro_descricao</th>\n",
       "      <th>parametro_sigla</th>\n",
       "      <th>valor_minimo_permitido</th>\n",
       "      <th>valor_maximo_permitido</th>\n",
       "      <th>unidade</th>\n",
       "      <th>norma_referencia</th>\n",
       "      <th>norma_texto</th>\n",
       "    </tr>\n",
       "    <tr>\n",
       "      <th>id</th>\n",
       "      <th></th>\n",
       "      <th></th>\n",
       "      <th></th>\n",
       "      <th></th>\n",
       "      <th></th>\n",
       "      <th></th>\n",
       "      <th></th>\n",
       "      <th></th>\n",
       "    </tr>\n",
       "  </thead>\n",
       "  <tbody>\n",
       "    <tr>\n",
       "      <th>38</th>\n",
       "      <td>Classe 2</td>\n",
       "      <td>Oxigênio Dissolvido</td>\n",
       "      <td>OD</td>\n",
       "      <td>5.0</td>\n",
       "      <td>NaN</td>\n",
       "      <td>mg/l</td>\n",
       "      <td>Inciso V, Art. 11</td>\n",
       "      <td>Oxigênio Dissolvido (OD), em qualquer amostra,...</td>\n",
       "    </tr>\n",
       "  </tbody>\n",
       "</table>\n",
       "</div>"
      ],
      "text/plain": [
       "   padrao_qualidade  parametro_descricao parametro_sigla  \\\n",
       "id                                                         \n",
       "38         Classe 2  Oxigênio Dissolvido              OD   \n",
       "\n",
       "    valor_minimo_permitido  valor_maximo_permitido unidade   norma_referencia  \\\n",
       "id                                                                              \n",
       "38                     5.0                     NaN   mg/l   Inciso V, Art. 11   \n",
       "\n",
       "                                          norma_texto  \n",
       "id                                                     \n",
       "38  Oxigênio Dissolvido (OD), em qualquer amostra,...  "
      ]
     },
     "execution_count": 29,
     "metadata": {},
     "output_type": "execute_result"
    }
   ],
   "source": [
    "# Parâmetros\n",
    "list_parametros = list(set(df['parametro_descricao']))\n",
    "list_parametros.sort()\n",
    "pprint.pprint(list_parametros)\n",
    "\n",
    "# Filter Data by Parâmetros\n",
    "df = df.loc[(df['parametro_descricao'] == 'Oxigênio Dissolvido')]\n",
    "df"
   ]
  },
  {
   "cell_type": "code",
   "execution_count": 30,
   "id": "a81f1781",
   "metadata": {},
   "outputs": [
    {
     "name": "stdout",
     "output_type": "stream",
     "text": [
      "{'padrao_qualidade': 'Classe 2',\n",
      " 'parametro_descricao': 'Oxigênio Dissolvido',\n",
      " 'parametro_sigla': 'OD',\n",
      " 'valor_minimo_permitido': 5.0,\n",
      " 'valor_maximo_permitido': nan,\n",
      " 'unidade': 'mg/l ',\n",
      " 'norma_referencia': 'Inciso V, Art. 11',\n",
      " 'norma_texto': 'Oxigênio Dissolvido (OD), em qualquer amostra, não inferior a 5 mg/l (cinco miligramas por litro)'}\n"
     ]
    }
   ],
   "source": [
    "# Check and Get Results\n",
    "if len(df) == 1:\n",
    "    data = df.to_dict(orient='records')[0]\n",
    "    pprint.pprint(data, width=150, sort_dicts=False)\n",
    "else:\n",
    "    print('Erro')"
   ]
  }
 ],
 "metadata": {
  "interpreter": {
   "hash": "c4251c2550b597b05a8b3cb3355425d37849bb76c7d3942e2734861434046725"
  },
  "kernelspec": {
   "display_name": "Python [conda env:pablocarreira-py39] *",
   "language": "python",
   "name": "python3"
  },
  "language_info": {
   "codemirror_mode": {
    "name": "ipython",
    "version": 3
   },
   "file_extension": ".py",
   "mimetype": "text/x-python",
   "name": "python",
   "nbconvert_exporter": "python",
   "pygments_lexer": "ipython3",
   "version": "3.8.8"
  }
 },
 "nbformat": 4,
 "nbformat_minor": 5
}
