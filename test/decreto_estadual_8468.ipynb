{
 "cells": [
  {
   "cell_type": "markdown",
   "id": "9e050706-8b4f-495c-96bd-645a8a5e52d9",
   "metadata": {
    "tags": [
     "remove_cell"
    ]
   },
   "source": [
    "<br>\n",
    "\n",
    "# Introdução"
   ]
  },
  {
   "cell_type": "code",
   "execution_count": 1,
   "id": "b165f4b3",
   "metadata": {},
   "outputs": [],
   "source": [
    "import os\n",
    "import pprint\n",
    "import pandas as pd\n",
    "from collections import OrderedDict"
   ]
  },
  {
   "cell_type": "code",
   "execution_count": 4,
   "id": "ac837568",
   "metadata": {},
   "outputs": [],
   "source": [
    "def get_parameters():\n",
    "    # Read Data\n",
    "    try:\n",
    "        df_8468 = pd.read_excel(\n",
    "            io=os.path.join(os.path.dirname(__file__), 'data', 'tab_dec_8468.xlsx'),\n",
    "            sheet_name='dec_8468',\n",
    "            index_col=0\n",
    "        )\n",
    "    except Exception as e:\n",
    "        #print(e, '\\n')\n",
    "        #print('Read table from GitHub')\n",
    "        df_8468 = pd.read_excel(\n",
    "            io='https://raw.githubusercontent.com/gaemapiracicaba/norma_dec_8468-76/main/src/normas/data/tab_dec_8468.xlsx',\n",
    "            sheet_name='dec_8468',\n",
    "            index_col=0\n",
    "        )\n",
    "\n",
    "    # Filter only quality\n",
    "    df_8468 = df_8468.loc[(df_8468['tipo_padrao'] == 'qualidade')]\n",
    "    #print(df_8468.head())\n",
    "\n",
    "    # Classes\n",
    "    list_classes = list(set(df_8468['padrao_qualidade']))\n",
    "    list_classes = [x for x in list_classes if pd.notnull(x)]\n",
    "    list_classes.sort()    \n",
    "\n",
    "    return df_8468, list_classes"
   ]
  },
  {
   "cell_type": "code",
   "execution_count": 6,
   "id": "b888fce3",
   "metadata": {
    "tags": [
     "remove_cell"
    ]
   },
   "outputs": [
    {
     "name": "stdout",
     "output_type": "stream",
     "text": [
      "['Classe 1', 'Classe 2', 'Classe 3', 'Classe 4']\n"
     ]
    }
   ],
   "source": [
    "df_8468, list_classes = get_parameters()\n",
    "pprint.pprint(list_classes)"
   ]
  },
  {
   "cell_type": "code",
   "execution_count": 7,
   "id": "80ce2056",
   "metadata": {},
   "outputs": [],
   "source": [
    "def filter_by_classe(df_8468, classe):\n",
    "    # Filter dataframe by Classe\n",
    "    df_8468 = df_8468.loc[(df_8468['padrao_qualidade'] == classe)]\n",
    "\n",
    "    # Parâmetros\n",
    "    list_parametros = list(set(df_8468['parametro_descricao']))\n",
    "    list_parametros = [x for x in list_parametros if pd.notnull(x)]\n",
    "    list_parametros.sort()    \n",
    "    return df_8468, list_parametros"
   ]
  },
  {
   "cell_type": "code",
   "execution_count": 9,
   "id": "b4b923c9",
   "metadata": {
    "tags": [
     "remove_cell"
    ]
   },
   "outputs": [
    {
     "name": "stdout",
     "output_type": "stream",
     "text": [
      "['Amônia',\n",
      " 'Arsênico',\n",
      " 'Bário',\n",
      " 'Chumbo',\n",
      " 'Cianeto',\n",
      " 'Cobre',\n",
      " 'Coliformes',\n",
      " 'Cromo Total',\n",
      " 'Cádmio',\n",
      " 'Demanda Bioquímica de Oxigênio',\n",
      " 'Estanho',\n",
      " 'Fenóis',\n",
      " 'Flúor',\n",
      " 'Mercúrio',\n",
      " 'Nitrato',\n",
      " 'Nitrito',\n",
      " 'Oxigênio Dissolvido',\n",
      " 'Selênio',\n",
      " 'Zinco']\n"
     ]
    }
   ],
   "source": [
    "df_8468, list_parametros = filter_by_classe(df_8468, classe='Classe 2')\n",
    "pprint.pprint(list_parametros)"
   ]
  },
  {
   "cell_type": "code",
   "execution_count": 10,
   "id": "94f77ece-1563-4272-9422-46f3e5a7f64f",
   "metadata": {},
   "outputs": [],
   "source": [
    "def filter_by_parameters(df_8468, parametro):\n",
    "    # Filter dataframe by Parametro\n",
    "    df_8468 = df_8468.loc[(df_8468['parametro_descricao'] == parametro)]\n",
    "\n",
    "    # Check and Get Results\n",
    "    if len(df_8468) == 1:\n",
    "        dict_8468 = df_8468.to_dict(orient='records')[0]\n",
    "        dict_8468 = OrderedDict(sorted(dict_8468.items(), key=lambda x: df_8468.columns.get_loc(x[0])))\n",
    "        return dict_8468\n",
    "    else:\n",
    "        return 'erro'"
   ]
  },
  {
   "cell_type": "code",
   "execution_count": 11,
   "id": "bb1667c0",
   "metadata": {
    "tags": [
     "remove_cell"
    ]
   },
   "outputs": [
    {
     "data": {
      "text/plain": [
       "OrderedDict([('tipo_padrao', 'qualidade'),\n",
       "             ('padrao_qualidade', 'Classe 2'),\n",
       "             ('parametro_descricao', 'Oxigênio Dissolvido'),\n",
       "             ('parametro_sigla', 'OD'),\n",
       "             ('valor_minimo_permitido', 5.0),\n",
       "             ('valor_maximo_permitido', nan),\n",
       "             ('unidade', 'mg/l '),\n",
       "             ('norma_referencia', 'Inciso V, Art. 11'),\n",
       "             ('norma_texto',\n",
       "              'Oxigênio Dissolvido (OD), em qualquer amostra, não inferior a 5 mg/l (cinco miligramas por litro)')])"
      ]
     },
     "execution_count": 11,
     "metadata": {},
     "output_type": "execute_result"
    }
   ],
   "source": [
    "# Filter Data by Parâmetros\n",
    "dict_8468 = filter_by_parameters(df_8468, parametro='Oxigênio Dissolvido')\n",
    "dict_8468"
   ]
  },
  {
   "cell_type": "code",
   "execution_count": 12,
   "id": "a6790c1b",
   "metadata": {},
   "outputs": [],
   "source": [
    "def set_type_desconformidade(dict_8468):\n",
    "    if pd.isnull(dict_8468['valor_minimo_permitido']) & pd.notnull(dict_8468['valor_maximo_permitido']):\n",
    "        #print('Parâmetro só tem \"valor máximo\". Caso o valor medido esteja acima, é amostra desconforme!')\n",
    "        tipo_8486 = 'acima>desconforme'\n",
    "\n",
    "    elif pd.notnull(dict_8468['valor_minimo_permitido']) & pd.isnull(dict_8468['valor_maximo_permitido']):\n",
    "        #print('Parâmetro só tem \"valor mínimo\". Caso o valor medido esteja abaixo, é amostra desconforme!')\n",
    "        tipo_8486 = 'abaixo>desconforme'\n",
    "\n",
    "    elif pd.notnull(dict_8468['valor_minimo_permitido']) & pd.notnull(dict_8468['valor_maximo_permitido']):\n",
    "        #print('Parâmetro tem \"valor mínimo\" e \"valor máximo\". Caso o valor medido acima ou abaixo, é amostra desconforme!')\n",
    "        tipo_8486 = 'abaixo_acima>desconforme'\n",
    "\n",
    "    elif pd.isnull(dict_8468['valor_minimo_permitido']) & pd.isnull(dict_8468['valor_maximo_permitido']):\n",
    "        #print('Erro!')\n",
    "        tipo_8486 = 'erro'\n",
    "    else:\n",
    "        print('Erro!')\n",
    "        #tipo_8486 = 'erro'\n",
    "\n",
    "    return tipo_8486"
   ]
  },
  {
   "cell_type": "code",
   "execution_count": 13,
   "id": "03855412",
   "metadata": {
    "tags": [
     "remove_cell"
    ]
   },
   "outputs": [
    {
     "data": {
      "text/plain": [
       "'abaixo>desconforme'"
      ]
     },
     "execution_count": 13,
     "metadata": {},
     "output_type": "execute_result"
    }
   ],
   "source": [
    "set_type_desconformidade(dict_8468)"
   ]
  },
  {
   "cell_type": "code",
   "execution_count": 14,
   "id": "8cf9c618",
   "metadata": {
    "collapsed": false,
    "jupyter": {
     "outputs_hidden": false
    },
    "pycharm": {
     "name": "#%%\n"
    }
   },
   "outputs": [],
   "source": [
    "def evaluate_result(valor, dict_8468):\n",
    "    # Get type\n",
    "    tipo_8486 = set_type_desconformidade(dict_8468)\n",
    "\n",
    "    # Evaluate type\n",
    "    if tipo_8486 == 'acima>desconforme':\n",
    "        if valor > dict_8468['valor_maximo_permitido']:\n",
    "            result_8468 = 'desconforme'\n",
    "        else:\n",
    "            result_8468 = 'conforme'\n",
    "\n",
    "    elif tipo_8486 == 'abaixo>desconforme':\n",
    "        if valor < dict_8468['valor_minimo_permitido']:\n",
    "            result_8468 = 'desconforme'\n",
    "        else:\n",
    "            result_8468 = 'conforme'\n",
    "\n",
    "    elif tipo_8486 == 'abaixo_acima>desconforme':\n",
    "        if dict_8468['valor_minimo_permitido'] <= valor <= dict_8468['valor_maximo_permitido']:\n",
    "            result_8468 = 'conforme'\n",
    "        else:\n",
    "            result_8468 = 'desconforme'\n",
    "\n",
    "    else:\n",
    "        result_8468 = 'erro'\n",
    "\n",
    "    return result_8468"
   ]
  },
  {
   "cell_type": "code",
   "execution_count": 15,
   "id": "2f200673",
   "metadata": {
    "collapsed": false,
    "jupyter": {
     "outputs_hidden": false
    },
    "pycharm": {
     "name": "#%%\n"
    },
    "tags": [
     "remove_cell"
    ]
   },
   "outputs": [
    {
     "data": {
      "text/plain": [
       "'conforme'"
      ]
     },
     "execution_count": 15,
     "metadata": {},
     "output_type": "execute_result"
    }
   ],
   "source": [
    "valor = 10\n",
    "evaluate_result(valor, dict_8468)"
   ]
  },
  {
   "cell_type": "markdown",
   "id": "ceab891c-0fdb-4f43-aa9e-5fb69181b27b",
   "metadata": {
    "tags": [
     "remove_cell"
    ]
   },
   "source": [
    "<br>\n",
    "\n",
    "# Export"
   ]
  },
  {
   "cell_type": "code",
   "execution_count": 28,
   "id": "70faa5e9",
   "metadata": {
    "tags": [
     "remove_cell"
    ]
   },
   "outputs": [],
   "source": [
    "import os\n",
    "from traitlets.config import Config\n",
    "from nbconvert import PythonExporter\n",
    "from nbconvert.preprocessors import TagRemovePreprocessor"
   ]
  },
  {
   "cell_type": "code",
   "execution_count": 29,
   "id": "352f48f9",
   "metadata": {
    "tags": [
     "remove_cell"
    ]
   },
   "outputs": [],
   "source": [
    "input_filename = 'decreto_estadual_8468.ipynb'\n",
    "input_filepath = os.path.join(os.getcwd(), input_filename)"
   ]
  },
  {
   "cell_type": "code",
   "execution_count": 30,
   "id": "14926c38",
   "metadata": {
    "tags": [
     "remove_cell"
    ]
   },
   "outputs": [],
   "source": [
    "# Import the exporter\n",
    "c = Config()\n",
    "c.TagRemovePreprocessor.enabled=True\n",
    "c.ClearOutputPreprocessor.enabled=True\n",
    "c.TemplateExporter.exclude_markdown=True\n",
    "c.TemplateExporter.exclude_code_cell=False\n",
    "c.TemplateExporter.exclude_input_prompt=True\n",
    "c.TemplateExporter.exclude_output=True\n",
    "c.TemplateExporter.exclude_raw=True\n",
    "c.TagRemovePreprocessor.remove_cell_tags = ('remove_cell',)\n",
    "c.TagRemovePreprocessor.remove_input_tags = ('remove_cell',)\n",
    "c.TagRemovePreprocessor.remove_all_outputs_tags = ('remove_output',)\n",
    "c.preprocessors = ['TagRemovePreprocessor']\n",
    "c.PythonExporter.preprocessors = ['nbconvert.preprocessors.TagRemovePreprocessor']\n",
    "\n",
    "# Configure and run out exporter\n",
    "py_exporter = PythonExporter(config=c)\n",
    "py_exporter.register_preprocessor(TagRemovePreprocessor(config=c), True)\n",
    "\n",
    "# Configure and run out exporter - returns a tuple - first element with html, second with notebook metadata\n",
    "body, metadata = PythonExporter(config=c).from_filename(input_filepath)\n",
    "\n",
    "# Write to output html file\n",
    "with open(os.path.join(os.getcwd(), '..', 'src', 'normas', 'decreto_estadual_8468.py'),  'w', encoding='utf-8') as f:\n",
    "    f.write(body)"
   ]
  },
  {
   "cell_type": "code",
   "execution_count": 96,
   "id": "de564dd3",
   "metadata": {
    "tags": [
     "remove_cell"
    ]
   },
   "outputs": [],
   "source": []
  }
 ],
 "metadata": {
  "interpreter": {
   "hash": "c4251c2550b597b05a8b3cb3355425d37849bb76c7d3942e2734861434046725"
  },
  "kernelspec": {
   "display_name": "Python 3 (ipykernel)",
   "language": "python",
   "name": "python3"
  },
  "language_info": {
   "codemirror_mode": {
    "name": "ipython",
    "version": 3
   },
   "file_extension": ".py",
   "mimetype": "text/x-python",
   "name": "python",
   "nbconvert_exporter": "python",
   "pygments_lexer": "ipython3",
   "version": "3.9.7"
  }
 },
 "nbformat": 4,
 "nbformat_minor": 5
}
