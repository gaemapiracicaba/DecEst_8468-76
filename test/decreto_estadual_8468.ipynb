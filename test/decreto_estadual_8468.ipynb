{
 "cells": [
  {
   "cell_type": "markdown",
   "id": "9e050706-8b4f-495c-96bd-645a8a5e52d9",
   "metadata": {
    "tags": [
     "remove_cell"
    ]
   },
   "source": [
    "<br>\n",
    "\n",
    "# Introdução"
   ]
  },
  {
   "cell_type": "code",
   "execution_count": null,
   "id": "b165f4b3",
   "metadata": {},
   "outputs": [],
   "source": [
    "import os\n",
    "import pprint\n",
    "import pkg_resources\n",
    "import pandas as pd"
   ]
  },
  {
   "cell_type": "code",
   "execution_count": null,
   "id": "58f766d4",
   "metadata": {},
   "outputs": [],
   "source": [
    "def print_michel():\n",
    "    print(__name__)\n",
    "    return print('Caralha de pasta data')\n",
    "\n",
    "print_michel()"
   ]
  },
  {
   "cell_type": "code",
   "execution_count": null,
   "id": "ac837568",
   "metadata": {},
   "outputs": [],
   "source": [
    "def get_8468_parameters():\n",
    "    # Read Data\n",
    "    df_8468 = pd.read_excel(\n",
    "        #io='https://raw.githubusercontent.com/gaemapiracicaba/norma_dec_8468-76/main/data/tab_dec_8468.xlsx',\n",
    "        #io=os.path.join(os.path.dirname(__file__), 'data', 'tab_dec_8468.xlsx'),\n",
    "        io=pkg_resources.resource_filename(__name__, 'data/tab_dec_8468.xlsx'),\n",
    "        sheet_name='dec_8468',\n",
    "        index_col=0\n",
    "    )\n",
    "\n",
    "    # Filter only quality\n",
    "    df_8468 = df_8468.loc[(df_8468['tipo_padrao'] == 'qualidade')]\n",
    "    #print(df_8468.head())\n",
    "\n",
    "    # Classes\n",
    "    list_classes = list(set(df_8468['padrao_qualidade']))\n",
    "    list_classes = [x for x in list_classes if pd.notnull(x)]\n",
    "    list_classes.sort()\n",
    "    pprint.pprint(list_classes)\n",
    "\n",
    "    return df_8468, list_classes"
   ]
  },
  {
   "cell_type": "code",
   "execution_count": null,
   "id": "b888fce3",
   "metadata": {
    "tags": [
     "remove_cell"
    ]
   },
   "outputs": [],
   "source": [
    "df_8468, list_classes = get_8468_parameters()"
   ]
  },
  {
   "cell_type": "code",
   "execution_count": null,
   "id": "80ce2056",
   "metadata": {},
   "outputs": [],
   "source": [
    "def filter_by_classe(df_8468, classe):\n",
    "    # Filter dataframe by Classe\n",
    "    df_8468 = df_8468.loc[(df_8468['padrao_qualidade'] == classe)]\n",
    "\n",
    "    # Parâmetros\n",
    "    list_parametros = list(set(df_8468['parametro_descricao']))\n",
    "    list_parametros = [x for x in list_parametros if pd.notnull(x)]\n",
    "    list_parametros.sort()\n",
    "    pprint.pprint(list_parametros)\n",
    "    return df_8468, list_parametros"
   ]
  },
  {
   "cell_type": "code",
   "execution_count": null,
   "id": "b4b923c9",
   "metadata": {
    "tags": [
     "remove_cell"
    ]
   },
   "outputs": [],
   "source": [
    "df_8468, list_parametros = filter_by_classe(df_8468, classe='Classe 2')"
   ]
  },
  {
   "cell_type": "code",
   "execution_count": null,
   "id": "94f77ece-1563-4272-9422-46f3e5a7f64f",
   "metadata": {},
   "outputs": [],
   "source": [
    "def filter_by_parameters(df_8468, parametro):\n",
    "    # Filter dataframe by Parametro\n",
    "    df_8468 = df_8468.loc[(df_8468['parametro_descricao'] == parametro)]\n",
    "\n",
    "    # Check and Get Results\n",
    "    if len(df_8468) == 1:\n",
    "        dict_8468 = df_8468.to_dict(orient='records')[0]\n",
    "        return dict_8468\n",
    "    else:\n",
    "        print('Erro')"
   ]
  },
  {
   "cell_type": "code",
   "execution_count": null,
   "id": "bb1667c0",
   "metadata": {
    "tags": [
     "remove_cell"
    ]
   },
   "outputs": [],
   "source": [
    "# Filter Data by Parâmetros\n",
    "dict_8468 = filter_by_parameters(df_8468, parametro='Oxigênio Dissolvido')\n",
    "dict_8468"
   ]
  },
  {
   "cell_type": "code",
   "execution_count": null,
   "id": "a6790c1b",
   "metadata": {},
   "outputs": [],
   "source": [
    "def set_type_desconformidade(dict_8468):\n",
    "    if pd.isnull(dict_8468['valor_minimo_permitido']) & pd.isnull(dict_8468['valor_maximo_permitido']):\n",
    "        print('Erro!')\n",
    "        tipo_8486 = 'erro'\n",
    "\n",
    "    elif pd.isnull(dict_8468['valor_minimo_permitido']) & pd.notnull(dict_8468['valor_maximo_permitido']):\n",
    "        print('Parâmetro só tem \"valor máximo\". Caso o valor medido esteja acima, é amostra desconforme!')\n",
    "        tipo_8486 = 'acima>desconforme'\n",
    "\n",
    "    elif pd.notnull(dict_8468['valor_minimo_permitido']) & pd.isnull(dict_8468['valor_maximo_permitido']):\n",
    "        print('Parâmetro só tem \"valor mínimo\". Caso o valor medido esteja abaixo, é amostra desconforme!')\n",
    "        tipo_8486 = 'abaixo>desconforme'\n",
    "\n",
    "    elif pd.notnull(dict_8468['valor_minimo_permitido']) & pd.notnull(dict_8468['valor_maximo_permitido']):\n",
    "        print('Parâmetro tem \"valor mínimo\" e \"valor máximo\". Caso o valor medido acima ou abaixo, é amostra desconforme!')\n",
    "        tipo_8486 = 'abaixo_acima>desconforme'\n",
    "\n",
    "    return tipo_8486"
   ]
  },
  {
   "cell_type": "code",
   "execution_count": null,
   "id": "03855412",
   "metadata": {
    "tags": [
     "remove_cell"
    ]
   },
   "outputs": [],
   "source": [
    "set_type_desconformidade(dict_8468)"
   ]
  },
  {
   "cell_type": "markdown",
   "id": "ceab891c-0fdb-4f43-aa9e-5fb69181b27b",
   "metadata": {
    "tags": [
     "remove_cell"
    ]
   },
   "source": [
    "<br>\n",
    "\n",
    "# Export"
   ]
  },
  {
   "cell_type": "code",
   "execution_count": null,
   "id": "70faa5e9",
   "metadata": {
    "tags": [
     "remove_cell"
    ]
   },
   "outputs": [],
   "source": [
    "import os\n",
    "from traitlets.config import Config\n",
    "from nbconvert import PythonExporter\n",
    "from nbconvert.preprocessors import TagRemovePreprocessor"
   ]
  },
  {
   "cell_type": "code",
   "execution_count": null,
   "id": "352f48f9",
   "metadata": {
    "tags": [
     "remove_cell"
    ]
   },
   "outputs": [],
   "source": [
    "input_filename = 'decreto_estadual_8468.ipynb'\n",
    "input_filepath = os.path.join(os.getcwd(), input_filename)"
   ]
  },
  {
   "cell_type": "code",
   "execution_count": null,
   "id": "14926c38",
   "metadata": {
    "tags": [
     "remove_cell"
    ]
   },
   "outputs": [],
   "source": [
    "# Import the exporter\n",
    "c = Config()\n",
    "c.TagRemovePreprocessor.enabled=True\n",
    "c.ClearOutputPreprocessor.enabled=True\n",
    "c.TemplateExporter.exclude_markdown=True\n",
    "c.TemplateExporter.exclude_code_cell=False\n",
    "c.TemplateExporter.exclude_input_prompt=True\n",
    "c.TemplateExporter.exclude_output=True\n",
    "c.TemplateExporter.exclude_raw=True\n",
    "c.TagRemovePreprocessor.remove_cell_tags = ('remove_cell',)\n",
    "c.TagRemovePreprocessor.remove_input_tags = ('remove_cell',)\n",
    "c.TagRemovePreprocessor.remove_all_outputs_tags = ('remove_output',)\n",
    "c.preprocessors = ['TagRemovePreprocessor']\n",
    "c.PythonExporter.preprocessors = ['nbconvert.preprocessors.TagRemovePreprocessor']\n",
    "\n",
    "# Configure and run out exporter\n",
    "py_exporter = PythonExporter(config=c)\n",
    "py_exporter.register_preprocessor(TagRemovePreprocessor(config=c), True)\n",
    "\n",
    "# Configure and run out exporter - returns a tuple - first element with html, second with notebook metadata\n",
    "body, metadata = PythonExporter(config=c).from_filename(input_filepath)\n",
    "\n",
    "# Write to output html file\n",
    "with open(os.path.join(os.getcwd(), '..', 'src', 'decreto_estadual_8468.py'),  'w', encoding='utf-8') as f:\n",
    "    f.write(body)"
   ]
  },
  {
   "cell_type": "code",
   "execution_count": null,
   "id": "de564dd3",
   "metadata": {
    "tags": [
     "remove_cell"
    ]
   },
   "outputs": [],
   "source": []
  }
 ],
 "metadata": {
  "interpreter": {
   "hash": "c4251c2550b597b05a8b3cb3355425d37849bb76c7d3942e2734861434046725"
  },
  "kernelspec": {
   "display_name": "Python 3 (ipykernel)",
   "language": "python",
   "name": "python3"
  },
  "language_info": {
   "codemirror_mode": {
    "name": "ipython",
    "version": 3
   },
   "file_extension": ".py",
   "mimetype": "text/x-python",
   "name": "python",
   "nbconvert_exporter": "python",
   "pygments_lexer": "ipython3",
   "version": "3.9.7"
  }
 },
 "nbformat": 4,
 "nbformat_minor": 5
}
