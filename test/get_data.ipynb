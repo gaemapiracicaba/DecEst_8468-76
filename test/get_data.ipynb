{
 "cells": [
  {
   "cell_type": "markdown",
   "id": "9e050706-8b4f-495c-96bd-645a8a5e52d9",
   "metadata": {},
   "source": [
    "<br>\n",
    "\n",
    "# Introdução"
   ]
  },
  {
   "cell_type": "code",
   "execution_count": null,
   "id": "b165f4b3",
   "metadata": {},
   "outputs": [],
   "source": [
    "import pprint\n",
    "import pandas as pd"
   ]
  },
  {
   "cell_type": "code",
   "execution_count": null,
   "id": "ac837568",
   "metadata": {},
   "outputs": [],
   "source": [
    "# Read Data\n",
    "df = pd.read_excel(\n",
    "    io='https://raw.githubusercontent.com/gaemapiracicaba/norma_dec_8468-76/main/data/tab_dec_8468.xlsx',\n",
    "    sheet_name='dec_8468',\n",
    "    index_col=0\n",
    ")\n",
    "df.head()"
   ]
  },
  {
   "cell_type": "code",
   "execution_count": null,
   "id": "591b9fb0",
   "metadata": {},
   "outputs": [],
   "source": [
    "# Classes\n",
    "list_classes = list(set(df['padrao_qualidade']))\n",
    "#list_classes.sort()\n",
    "#pprint.pprint(list_classes)\n",
    "\n",
    "# Filter Data by Classes\n",
    "#df = df.loc[(df['padrao_qualidade'] == 'Classe 2')]\n",
    "list_classes"
   ]
  },
  {
   "cell_type": "code",
   "execution_count": null,
   "id": "94f77ece-1563-4272-9422-46f3e5a7f64f",
   "metadata": {},
   "outputs": [],
   "source": [
    "# Parâmetros\n",
    "list_parametros = list(set(df['parametro_descricao']))\n",
    "list_parametros.sort()\n",
    "pprint.pprint(list_parametros)\n",
    "\n",
    "# Filter Data by Parâmetros\n",
    "df = df.loc[(df['parametro_descricao'] == 'Oxigênio Dissolvido')]\n",
    "df"
   ]
  },
  {
   "cell_type": "code",
   "execution_count": null,
   "id": "a81f1781",
   "metadata": {},
   "outputs": [],
   "source": [
    "# Check and Get Results\n",
    "if len(df) == 1:\n",
    "    data = df.to_dict(orient='records')[0]\n",
    "    pprint.pprint(data, width=150, sort_dicts=False)\n",
    "else:\n",
    "    print('Erro')"
   ]
  },
  {
   "cell_type": "code",
   "execution_count": null,
   "id": "a6790c1b",
   "metadata": {},
   "outputs": [],
   "source": []
  }
 ],
 "metadata": {
  "interpreter": {
   "hash": "c4251c2550b597b05a8b3cb3355425d37849bb76c7d3942e2734861434046725"
  },
  "kernelspec": {
   "display_name": "Python [conda env:pablocarreira-py39] *",
   "language": "python",
   "name": "python3"
  },
  "language_info": {
   "codemirror_mode": {
    "name": "ipython",
    "version": 3
   },
   "file_extension": ".py",
   "mimetype": "text/x-python",
   "name": "python",
   "nbconvert_exporter": "python",
   "pygments_lexer": "ipython3",
   "version": "3.9.10"
  }
 },
 "nbformat": 4,
 "nbformat_minor": 5
}
