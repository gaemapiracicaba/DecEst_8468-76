{
 "cells": [
  {
   "cell_type": "markdown",
   "metadata": {},
   "source": [
    "<br>\n",
    "\n",
    "# Introdução"
   ]
  },
  {
   "cell_type": "code",
   "execution_count": 2,
   "metadata": {},
   "outputs": [
    {
     "data": {
      "text/plain": [
       "'/home/michel/Codes/open_mpsp/norma_dec_8468-76/test'"
      ]
     },
     "execution_count": 2,
     "metadata": {},
     "output_type": "execute_result"
    }
   ],
   "source": [
    "# Onde Estou?\n",
    "import os\n",
    "os.getcwd()"
   ]
  },
  {
   "cell_type": "code",
   "execution_count": 3,
   "metadata": {},
   "outputs": [
    {
     "name": "stdout",
     "output_type": "stream",
     "text": [
      "Requirement already satisfied: build in /home/michel/Documents/Conda/envs/pablocarreira-py39/lib/python3.9/site-packages (0.7.0)\n",
      "Requirement already satisfied: tomli>=1.0.0 in /home/michel/Documents/Conda/envs/pablocarreira-py39/lib/python3.9/site-packages (from build) (1.2.2)\n",
      "Requirement already satisfied: packaging>=19.0 in /home/michel/Documents/Conda/envs/pablocarreira-py39/lib/python3.9/site-packages (from build) (21.3)\n",
      "Requirement already satisfied: pep517>=0.9.1 in /home/michel/Documents/Conda/envs/pablocarreira-py39/lib/python3.9/site-packages (from build) (0.12.0)\n",
      "Requirement already satisfied: pyparsing!=3.0.5,>=2.0.2 in /home/michel/Documents/Conda/envs/pablocarreira-py39/lib/python3.9/site-packages (from packaging>=19.0->build) (3.0.6)\n"
     ]
    }
   ],
   "source": [
    "# Instala o build\n",
    "!python3 -m pip install --upgrade build"
   ]
  },
  {
   "cell_type": "code",
   "execution_count": 4,
   "metadata": {},
   "outputs": [
    {
     "name": "stdout",
     "output_type": "stream",
     "text": [
      "\u001b[1m* Creating venv isolated environment...\u001b[0m\n",
      "\u001b[1m* Installing packages in isolated environment... (setuptools >= 40.8.0, wheel)\u001b[0m\n",
      "\u001b[1m* Getting dependencies for sdist...\u001b[0m\n",
      "running egg_info\n",
      "writing src/decreto_estadual_8468.egg-info/PKG-INFO\n",
      "writing dependency_links to src/decreto_estadual_8468.egg-info/dependency_links.txt\n",
      "writing requirements to src/decreto_estadual_8468.egg-info/requires.txt\n",
      "writing top-level names to src/decreto_estadual_8468.egg-info/top_level.txt\n",
      "reading manifest file 'src/decreto_estadual_8468.egg-info/SOURCES.txt'\n",
      "reading manifest template 'MANIFEST.in'\n",
      "warning: no directories found matching 'data'\n",
      "no previously-included directories found matching 'test'\n",
      "warning: no previously-included files matching '__pycache__' found anywhere in distribution\n",
      "warning: no previously-included files matching '*.py[cod]' found anywhere in distribution\n",
      "warning: no previously-included files matching '*.ipynb_checkpoints/' found anywhere in distribution\n",
      "adding license file 'LICENSE'\n",
      "\u001b[1m* Building sdist...\u001b[0m\n",
      "running sdist\n",
      "running egg_info\n",
      "writing src/decreto_estadual_8468.egg-info/PKG-INFO\n",
      "writing dependency_links to src/decreto_estadual_8468.egg-info/dependency_links.txt\n",
      "writing requirements to src/decreto_estadual_8468.egg-info/requires.txt\n",
      "writing top-level names to src/decreto_estadual_8468.egg-info/top_level.txt\n",
      "reading manifest file 'src/decreto_estadual_8468.egg-info/SOURCES.txt'\n",
      "reading manifest template 'MANIFEST.in'\n",
      "warning: no directories found matching 'data'\n",
      "no previously-included directories found matching 'test'\n",
      "warning: no previously-included files matching '__pycache__' found anywhere in distribution\n",
      "warning: no previously-included files matching '*.py[cod]' found anywhere in distribution\n",
      "warning: no previously-included files matching '*.ipynb_checkpoints/' found anywhere in distribution\n",
      "adding license file 'LICENSE'\n",
      "running check\n",
      "copying files to decreto_estadual_8468-1.0.27...\n",
      "Writing decreto_estadual_8468-1.0.27/setup.cfg\n",
      "\u001b[1m* Building wheel from sdist\u001b[0m\n",
      "\u001b[1m* Creating venv isolated environment...\u001b[0m\n",
      "\u001b[1m* Installing packages in isolated environment... (setuptools >= 40.8.0, wheel)\u001b[0m\n",
      "\u001b[1m* Getting dependencies for wheel...\u001b[0m\n",
      "running egg_info\n",
      "writing src/decreto_estadual_8468.egg-info/PKG-INFO\n",
      "writing dependency_links to src/decreto_estadual_8468.egg-info/dependency_links.txt\n",
      "writing requirements to src/decreto_estadual_8468.egg-info/requires.txt\n",
      "writing top-level names to src/decreto_estadual_8468.egg-info/top_level.txt\n",
      "reading manifest file 'src/decreto_estadual_8468.egg-info/SOURCES.txt'\n",
      "reading manifest template 'MANIFEST.in'\n",
      "warning: no directories found matching 'data'\n",
      "no previously-included directories found matching 'test'\n",
      "warning: no previously-included files matching 'run.py' found anywhere in distribution\n",
      "warning: no previously-included files matching 'data/tab_Pa*' found anywhere in distribution\n",
      "warning: no previously-included files matching '__pycache__' found anywhere in distribution\n",
      "warning: no previously-included files matching '*.py[cod]' found anywhere in distribution\n",
      "warning: no previously-included files matching '*.ipynb_checkpoints/' found anywhere in distribution\n",
      "adding license file 'LICENSE'\n",
      "\u001b[1m* Installing packages in isolated environment... (wheel)\u001b[0m\n",
      "\u001b[1m* Building wheel...\u001b[0m\n",
      "running bdist_wheel\n",
      "running build\n",
      "running build_py\n",
      "running egg_info\n",
      "writing src/decreto_estadual_8468.egg-info/PKG-INFO\n",
      "writing dependency_links to src/decreto_estadual_8468.egg-info/dependency_links.txt\n",
      "writing requirements to src/decreto_estadual_8468.egg-info/requires.txt\n",
      "writing top-level names to src/decreto_estadual_8468.egg-info/top_level.txt\n",
      "reading manifest file 'src/decreto_estadual_8468.egg-info/SOURCES.txt'\n",
      "reading manifest template 'MANIFEST.in'\n",
      "warning: no directories found matching 'data'\n",
      "no previously-included directories found matching 'test'\n",
      "warning: no previously-included files matching 'run.py' found anywhere in distribution\n",
      "warning: no previously-included files matching 'data/tab_Pa*' found anywhere in distribution\n",
      "warning: no previously-included files matching '__pycache__' found anywhere in distribution\n",
      "warning: no previously-included files matching '*.py[cod]' found anywhere in distribution\n",
      "warning: no previously-included files matching '*.ipynb_checkpoints/' found anywhere in distribution\n",
      "adding license file 'LICENSE'\n",
      "installing to build/bdist.linux-x86_64/wheel\n",
      "running install\n",
      "running install_lib\n",
      "copying build/lib/normas/__init__.py -> build/bdist.linux-x86_64/wheel/normas\n",
      "copying build/lib/normas/decreto_estadual_8468.py -> build/bdist.linux-x86_64/wheel/normas\n",
      "copying build/lib/normas/data/tab_dec_8468.xlsx -> build/bdist.linux-x86_64/wheel/normas/data\n",
      "running install_egg_info\n",
      "running install_scripts\n",
      "adding license file \"LICENSE\" (matched pattern \"LICEN[CS]E*\")\n",
      "creating build/bdist.linux-x86_64/wheel/decreto_estadual_8468-1.0.27.dist-info/WHEEL\n",
      "creating '/home/michel/Codes/open_mpsp/norma_dec_8468-76/dist/tmpzbe_0rug/decreto_estadual_8468-1.0.27-py3-none-any.whl' and adding 'build/bdist.linux-x86_64/wheel' to it\n",
      "adding 'normas/__init__.py'\n",
      "adding 'normas/decreto_estadual_8468.py'\n",
      "adding 'normas/data/tab_dec_8468.xlsx'\n",
      "adding 'decreto_estadual_8468-1.0.27.dist-info/LICENSE'\n",
      "adding 'decreto_estadual_8468-1.0.27.dist-info/METADATA'\n",
      "adding 'decreto_estadual_8468-1.0.27.dist-info/WHEEL'\n",
      "adding 'decreto_estadual_8468-1.0.27.dist-info/top_level.txt'\n",
      "adding 'decreto_estadual_8468-1.0.27.dist-info/RECORD'\n",
      "removing build/bdist.linux-x86_64/wheel\n",
      "\u001b[1m\u001b[92mSuccessfully built \u001b[4mdecreto_estadual_8468-1.0.27.tar.gz\u001b[0m\u001b[1m\u001b[92m and \u001b[4mdecreto_estadual_8468-1.0.27-py3-none-any.whl\u001b[0m\u001b[1m\u001b[92m\u001b[0m\n",
      "\u001b[0m"
     ]
    }
   ],
   "source": [
    "# Builda o projeto\n",
    "!python3 -m build .."
   ]
  },
  {
   "cell_type": "code",
   "execution_count": null,
   "metadata": {},
   "outputs": [],
   "source": []
  }
 ],
 "metadata": {
  "interpreter": {
   "hash": "397a8db9a99587ebc9659e575e97c3dbc03b7cdbd9bc181d706cc19eab1087ed"
  },
  "kernelspec": {
   "display_name": "Python 3 (ipykernel)",
   "language": "python",
   "name": "python3"
  },
  "language_info": {
   "codemirror_mode": {
    "name": "ipython",
    "version": 3
   },
   "file_extension": ".py",
   "mimetype": "text/x-python",
   "name": "python",
   "nbconvert_exporter": "python",
   "pygments_lexer": "ipython3",
   "version": "3.9.7"
  }
 },
 "nbformat": 4,
 "nbformat_minor": 4
}
